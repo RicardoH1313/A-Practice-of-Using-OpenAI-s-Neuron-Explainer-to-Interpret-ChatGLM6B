{
 "cells": [
  {
   "cell_type": "code",
   "execution_count": null,
   "id": "f1b5fa65-a71a-41c3-a172-50c0a190235f",
   "metadata": {},
   "outputs": [],
   "source": [
    "import os\n",
    "import json\n",
    "import random\n",
    "import torch\n",
    "from dataclasses import dataclass, asdict\n",
    "from transformers import AutoModel, AutoTokenizer\n",
    "import pandas as pd\n",
    "import time\n",
    "import gc"
   ]
  },
  {
   "cell_type": "code",
   "execution_count": null,
   "id": "794a233e-4a5d-46c4-a080-ff0fe4aad098",
   "metadata": {},
   "outputs": [],
   "source": [
    "device = torch.device(\"cuda\" if torch.cuda.is_available() else \"cpu\") # 如果GPU设备可以，则用GPU；否则用CPU设备"
   ]
  },
  {
   "cell_type": "code",
   "execution_count": null,
   "id": "47fcf385-bc9c-4580-adba-8154cc969f8e",
   "metadata": {},
   "outputs": [],
   "source": [
    "# 获取数据\n",
    "parquet_file_path = \"train-00040-of-00041.parquet\"\n",
    "df = pd.read_parquet(parquet_file_path)\n",
    "df.head()"
   ]
  },
  {
   "cell_type": "code",
   "execution_count": null,
   "id": "7ad39abb-c78a-4049-9940-f0800562e631",
   "metadata": {},
   "outputs": [],
   "source": [
    "# 定义数据类\n",
    "@dataclass\n",
    "class NeuronId:\n",
    "    layer_index: int  # 神经元所在的层的索引\n",
    "    neuron_index: int  # 神经元在层中的索引\n",
    "\n",
    "@dataclass\n",
    "class ActivationRecord:\n",
    "    tokens: list  # 输入 token 序列\n",
    "    activations: list  # 对应的激活值序列\n",
    "\n",
    "@dataclass\n",
    "class NeuronRecord:\n",
    "    dataclass_name: str  # 数据类名称\n",
    "    neuron_id: NeuronId  # 神经元的 ID\n",
    "    random_sample: list  # 随机样本序列"
   ]
  },
  {
   "cell_type": "code",
   "execution_count": null,
   "id": "a7ae18df-b393-4168-b593-a23b5e79e6ed",
   "metadata": {},
   "outputs": [],
   "source": [
    "# 创建 GLM 激活值文件夹\n",
    "glm_activation_folder = \"GLM激活值\"\n",
    "os.makedirs(glm_activation_folder, exist_ok=True)"
   ]
  },
  {
   "cell_type": "code",
   "execution_count": null,
   "id": "a5bed3f2-bdfd-4b8b-b82c-bba42764ee9a",
   "metadata": {},
   "outputs": [],
   "source": [
    "# 创建 GLM 激活值文件夹\n",
    "glm_activation_folder = \"GLM激活值\"\n",
    "os.makedirs(glm_activation_folder, exist_ok=True)"
   ]
  },
  {
   "cell_type": "code",
   "execution_count": null,
   "id": "4948f444-0145-48cd-a65c-50f22e12719d",
   "metadata": {},
   "outputs": [],
   "source": [
    "global neuron_records,neuron_records_all\n",
    "# 创建 hook 函数来记录激活值\n",
    "def hook(inputs, output):\n",
    "    tokens = tokenizer.convert_ids_to_tokens(inputs[\"input_ids\"].squeeze().tolist())  # 将输入编码的标记转换为文本标记\n",
    "    tokens = [token for token in tokens if token.strip()]  # 过滤掉特殊标记并转换为列表\n",
    "    activations = []\n",
    "    for i in output[0]:\n",
    "        i = i.squeeze().tolist()\n",
    "        activations.append(i[neuron_index])\n",
    "    activation_record = ActivationRecord(tokens=tokens, activations=activations)  # 创建 ActivationRecord 对象\n",
    "    neuron_id = NeuronId(layer_index=layer_index, neuron_index=neuron_index)  # 创建 NeuronId 对象\n",
    "    neuron_record = NeuronRecord(dataclass_name=\"NeuronRecord\", neuron_id=neuron_id, random_sample=[activation_record])  # 创建 NeuronRecord 对象\n",
    "    neuron_records.append(neuron_record)  # 添加到记录列表中"
   ]
  },
  {
   "cell_type": "code",
   "execution_count": null,
   "id": "5bc3dca5-8155-42c5-bf80-7e08bf5b6275",
   "metadata": {},
   "outputs": [],
   "source": [
    "# 获取28层的4096个神经元并记录\n",
    "for layer_index in range(27,28):  # 28 层\n",
    "    layer_folder = os.path.join(glm_activation_folder, str(layer_index + 1))\n",
    "    os.makedirs(layer_folder, exist_ok=True)\n",
    "    if hasattr(model.transformer, 'layers') and layer_index < len(model.transformer.layers):\n",
    "        target_glm_block = model.transformer.layers[layer_index]\n",
    "    else:\n",
    "        print(\"layer:\", layer_index, \"不存在\")\n",
    "        continue\n",
    "    for neuron_index in range(0,4096):  # 每层 4096 个神经元\n",
    "        num_samples_per_neuron = random.randint(10, 15)  # 随机选择样本数\n",
    "        sampled_texts = df.sample(n=num_samples_per_neuron)[\"text\"].tolist()  # 随机选择样本文本\n",
    "        neuron_records_all = []  # 存储所有神经元的激活值记录\n",
    "        for text in sampled_texts:\n",
    "            neuron_records = []\n",
    "            inputs = tokenizer(text, return_tensors=\"pt\", padding=False, truncation=True).to(device)\n",
    "            try:\n",
    "                with torch.no_grad():\n",
    "                    output = model(**inputs)\n",
    "            except:\n",
    "                continue\n",
    "            # 注册hook以捕获激活值\n",
    "            handle = target_glm_block.register_forward_hook(hook(inputs, output))\n",
    "            handle.remove()\n",
    "            neuron_records_all.append(neuron_records)\n",
    "        neuron_record_file = os.path.join(layer_folder, f\"{neuron_index}.json\")\n",
    "        neuron_records_dict_list = []\n",
    "        for i in neuron_records_all:\n",
    "            neuron_records_dict_list.append([asdict(record) for record in i])\n",
    "        with open(neuron_record_file, 'w') as f:\n",
    "            json.dump(neuron_records_dict_list, f, indent=4)"
   ]
  }
 ],
 "metadata": {
  "kernelspec": {
   "display_name": "Python 3 (ipykernel)",
   "language": "python",
   "name": "python3"
  },
  "language_info": {
   "codemirror_mode": {
    "name": "ipython",
    "version": 3
   },
   "file_extension": ".py",
   "mimetype": "text/x-python",
   "name": "python",
   "nbconvert_exporter": "python",
   "pygments_lexer": "ipython3",
   "version": "3.10.12"
  }
 },
 "nbformat": 4,
 "nbformat_minor": 5
}
